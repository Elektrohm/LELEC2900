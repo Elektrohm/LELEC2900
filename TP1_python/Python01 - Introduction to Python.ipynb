{
 "cells": [
  {
   "cell_type": "markdown",
   "metadata": {},
   "source": [
    "<font size=5  color=#003366> <b>[LELEC2900] - Signal Processing <br><br> \n",
    "Python01 - Python Good Practice and Applications to Signal Processing</b> </font> <br><br><br>\n",
    "\n",
    "<font size=5  color=#003366>\n",
    "Prof. L. Vandendorpe<br>\n",
    "Prof. L. Jacques\n",
    "<br><br>\n",
    "Anne-Sophie Collin (anne-sophie.collin@uclouvain.be)<br> \n",
    "Florian Quatresooz (florian.quatresooz@uclouvain.be) <br>\n",
    "<br><br>\n",
    "</font>"
   ]
  },
  {
   "cell_type": "markdown",
   "metadata": {},
   "source": [
    "The objective of this first session is twofold. On the one hand, exercises 1 and 2 have will provide you some advice to write efficient python code. Even though you have already used Python, we strongly encourage you to work on these exercises. On the other hand, exercises 3 and 4 consist in usual signal processing applications. <br> <br>\n",
    "\n",
    "\n",
    "<font size=5 color=#009999> <b>1. Conditional Indexing</b> </font> <br> <br>\n",
    "\n",
    "<font size=5 color=#009999> <i>1.1 Context</i> </font>\n",
    "\n",
    "It is possible to retrieve specific elements of a list or a numpy arrays by using simple indices. For example, \n",
    "\n",
    "   - <samp>array[5]</samp> selects the 6th element of the array;\n",
    "   - <samp>array[0:2]</samp> selects the first 3 elements;\n",
    "   - <samp>array[-1]</samp> selects the last element.\n",
    "   \n",
    "In this exercise, we will explore an other indexing method that is much more efficient. <br><br>\n",
    "\n",
    "<font size=5 color=#009999> <i>1.2 Fancy indexing on a vector</i> </font>\n",
    "\n",
    "First, a boolean array can be created by applying a condition over all elements of an array. \n",
    "For example, <samp>bool_array  = array > 0</samp> will create a boolean array \n",
    "\n",
    "- of the same size of <samp>array</samp>;\n",
    "- in which an index is <samp>True</samp> if the value in <samp>array</samp> is greater than zero. \n",
    "\n",
    "This boolean array can then be used to index values of an array depending on the boolean value of the corresponding index in  <samp>bool_array</samp> (e.g. <samp>array\\[bool_array\\]</samp>). <br>\n",
    "\n",
    "For this exercise: \n",
    "<ol>\n",
    "   <li> Generate a numpy array (called <samp>randomVec</samp>) of size 100 with random integer values between -20 and 20;\n",
    "   <li> Generate a numpy array (called <samp>booleanVec</samp>) of size 100 in which <samp>booleanVec[i]</samp> is <samp>True</samp> iff <samp>randomVec[i]</samp> is greater than 0.<font color=#cc3300> Do not use any for loop! </font> \n",
    "   <li> Use <samp>booleanVec</samp> to compute the mean of the strictly positive values in <samp>randomVec</samp> <font color=#cc3300>. Again, do it without using any for loop! </font>\n",
    "   <li> Compute and display the mean of values that are strictly positive and odd.\n",
    "       <div class=\"alert alert-info\">\n",
    "        <b>PYTHON TIP</b>  <br>\n",
    "        In order to retrieve odd values in an array, you should think about the use of the modulo operator \"%\".\n",
    "        </div>\n",
    "</ol>       "
   ]
  },
  {
   "cell_type": "code",
   "execution_count": 8,
   "metadata": {},
   "outputs": [
    {
     "name": "stdout",
     "output_type": "stream",
     "text": [
      "The mean of the positive values is: 8.93\n",
      "The mean of the positive odd values is: 9.21 \n",
      "\n"
     ]
    }
   ],
   "source": [
    "import numpy as np \n",
    "import matplotlib.pyplot as plt\n",
    "\n",
    "randomVec       = np.random.randint(low=-20, high=20, size=100)\n",
    "booleanVec      = randomVec > 0\n",
    "VecPositiveMean = np.mean(randomVec[booleanVec])\n",
    "print('The mean of the positive values is:', round(VecPositiveMean,2))\n",
    "VecOddMean      = np.mean(randomVec[(randomVec %2 != 0) & booleanVec]) \n",
    "\n",
    "print('The mean of the positive odd values is:', round(VecOddMean,2), '\\n')"
   ]
  },
  {
   "cell_type": "markdown",
   "metadata": {},
   "source": [
    "<font size=5 color=#009999> <i>1.3 Execution time comparison</i> </font>\n",
    "\n",
    "Let's quantify the time efficiency of our implementation by testing it over a bigger array!\n",
    "\n",
    "As done previously, we will compute the mean of positive and odd values over an an intial random numpy array of size 5000x5000 (still with random integer values between -20 and 20).\n",
    "Compare the execution time of two implementations: \n",
    "<ol>\n",
    "   <li> An implementation with conditional indexing (without for loop); \n",
    "   <li> A naïve implementation using for loop and if/else conditions to retrive positive and odd values of the array.\n",
    "</ol>   "
   ]
  },
  {
   "cell_type": "code",
   "execution_count": 15,
   "metadata": {},
   "outputs": [
    {
     "name": "stdout",
     "output_type": "stream",
     "text": [
      "---------------- EXERCISE ON THE ARRAY ---------------- \n",
      "---------------- WITH CONDITIONAL INDEXING ---------------- \n",
      "The mean of the positive odd values is: 10.0  (computed in ) 131  ms \n",
      "\n",
      "---------------- WITHOUT CONDITIONAL INDEXING ---------------- \n",
      "The mean of the positive odd values is: 10.0  (computed in ) 11387  ms \n",
      "\n"
     ]
    }
   ],
   "source": [
    "#---------------------------------------------------------------------------\n",
    "#TO COMPLETE\n",
    "#---------------------------------------------------------------------------\n",
    "\n",
    "import time\n",
    "\n",
    "print('---------------- EXERCISE ON THE ARRAY ---------------- ')\n",
    "print('---------------- WITH CONDITIONAL INDEXING ---------------- ')\n",
    "randomArray   = np.random.randint(low=-20, high=20, size=(5000,5000))\n",
    "booleanArray  = (randomArray > 0) & (randomArray %2 != 0)\n",
    "start_time    = time.time()\n",
    "ArrayOddMean  = np.mean(randomArray[booleanArray]) #be smarter than this stupid value\n",
    "elapsend_time = (time.time() - start_time)*1000\n",
    "print('The mean of the positive odd values is:', round(ArrayOddMean,2), \" (computed in )\", \\\n",
    "      round(elapsend_time), \" ms \\n\")\n",
    "\n",
    "\n",
    "print('---------------- WITHOUT CONDITIONAL INDEXING ---------------- ')\n",
    "\"\"\"\n",
    "selectOddPositives is a function that recursively loop over an array to retrieve odd and positive value and then\n",
    "returns the mean of those retrieved values.\n",
    "    INPUT: a numpy array with random integer values.\n",
    "    OUTPUT: the mean of the odd and positives values in the array.\n",
    "\"\"\"\n",
    "def selectOddPositives(array): \n",
    "    summation = 0\n",
    "    number = 0\n",
    "    for i in array:\n",
    "        for j in i:\n",
    "            if (j > 0) and (j %2 !=0):\n",
    "                summation += j\n",
    "                number += 1\n",
    "    return summation/number\n",
    "\n",
    "start_time    = time.time()\n",
    "ArrayOddMean  = selectOddPositives(randomArray) \n",
    "elapsend_time = (time.time() - start_time)*1000\n",
    "print('The mean of the positive odd values is:', round(ArrayOddMean,2), \" (computed in )\", \\\n",
    "      round(elapsend_time), \" ms \\n\")"
   ]
  },
  {
   "cell_type": "markdown",
   "metadata": {},
   "source": [
    "<font size=5 color=#009999> <b>2. Variable Mutability</b> </font> <br> <br>\n",
    "\n",
    "<font size=5 color=#009999> <i>2.1 Context</i> </font>\n",
    "\n",
    "Everything in Python is an object. And what Python user should quickly learn is that all objects in Python can be either mutable or immutable: <br>\n",
    "\n",
    "- Objects of built-in types like lists, sets or dictionaries are mutable (i.e. the object can be changed after it is created);  <br> \n",
    "- Objects of built-in types like int, float, bool, str or tuple are immutable (the object cannot be changed). <br> \n",
    "\n",
    "This property of python variables is crucial when they are given as argument to a function. In python, arguments are \"passed by reference\" instead of \"passed by value\". It means that the pointer to the variable is passed to the function and not a copy of the variable. Any change that is performed inside a function will affect the value of the variable in your whole script! <br>\n",
    "\n",
    "Believe us, if you do not pay attention to that, you will hate your code for returning strange results ;)<br><br>\n",
    "\n",
    "<font size=5 color=#009999> <i>2.1 Add and average function</i> </font>\n",
    "\n",
    "The function <samp>addAndAverage</samp> is provided in the cell below. This function adds a given increment value to every item in a sequence and then computes the mean of it. "
   ]
  },
  {
   "cell_type": "code",
   "execution_count": 35,
   "metadata": {},
   "outputs": [],
   "source": [
    "#---------------------------------------------------------------------------\n",
    "#TO RUN\n",
    "#---------------------------------------------------------------------------\n",
    "\n",
    "\"\"\"\n",
    "addAndAverage computes the mean of all values in an iterable after adding an increment to each value.\n",
    "    INPUTS: \n",
    "        - an iterable 1D sequence (list, numpy array,...).\n",
    "        - (Opt.) an increment value. \n",
    "    OUTPUT: the mean of the array after a given value has been added to each item.\n",
    "\"\"\"\n",
    "def addAndAverage(sequence, increment=0): \n",
    "    nb_items = 0\n",
    "    for item in sequence: \n",
    "        sequence[nb_items] += increment\n",
    "        nb_items += 1 \n",
    "    return sum(sequence)/nb_items\n",
    "\n",
    "def addAndAverage_smart(sequence, increment=0):\n",
    "    nb_items = 0\n",
    "    somme = 0\n",
    "    for item in sequence: \n",
    "        somme += sequence[nb_items] + increment\n",
    "        nb_items += 1 \n",
    "    return somme/nb_items"
   ]
  },
  {
   "cell_type": "markdown",
   "metadata": {},
   "source": [
    "For this exercise: \n",
    "<ol>\n",
    "<li> Apply <samp>add_and_average</samp> on (a) a list, (b) a numpy array. \n",
    "<li> Check whether the list/array is modified after calling the function. If it is the case, modify the function to solve the problem.\n",
    "        <div class=\"alert alert-info\">\n",
    "        <b>PYTHON TIP</b>  <br>\n",
    "        Have a look at the 'copy' [library](https://docs.python.org/3/library/copy.html).\n",
    "        </div>\n",
    "</ol> "
   ]
  },
  {
   "cell_type": "code",
   "execution_count": 36,
   "metadata": {},
   "outputs": [
    {
     "name": "stdout",
     "output_type": "stream",
     "text": [
      "With a stupid list\n",
      "lst passed in the function : [1, 2, 3, 4, 5, 6, 7, 8, 9, 10]\n",
      "original lst [1, 2, 3, 4, 5, 6, 7, 8, 9, 10]\n",
      "\n",
      "With a numpy array\n",
      "lst passed in the function : [ 1  2  3  4  5  6  7  8  9 10]\n",
      "original lst [1, 2, 3, 4, 5, 6, 7, 8, 9, 10]\n",
      "\n"
     ]
    }
   ],
   "source": [
    "#---------------------------------------------------------------------------\n",
    "#TO COMPLETE\n",
    "#---------------------------------------------------------------------------\n",
    "\n",
    "import copy  \n",
    "\n",
    "#Perform your experiments here....\n",
    "lst = [1,2,3,4,5,6,7,8,9,10]\n",
    "lst_orig = copy.copy(lst)\n",
    "lst_np = np.array(lst)\n",
    "\n",
    "print(\"With a stupid list\")\n",
    "addAndAverage_smart(lst, increment=2)\n",
    "print(f\"lst passed in the function : {lst}\")\n",
    "print(f\"original lst {lst_orig}\\n\")\n",
    "\n",
    "print(\"With a numpy array\")\n",
    "addAndAverage_smart(lst_np, increment=2)\n",
    "print(f\"lst passed in the function : {lst_np}\")\n",
    "print(f\"original lst {lst_orig}\\n\")"
   ]
  },
  {
   "cell_type": "markdown",
   "metadata": {},
   "source": [
    "<font size=5 color=#009999> <b>3. Discrete Fourier Transform</b> </font> <br> \n",
    "\n",
    "<font size=5 color=#009999> <i>3.1 Recovering Heart beat from ECG</i> </font> <br> \n",
    "\n",
    "An Electrocardiogram (ECG) is a recording of the electrical activity of the heart. This signal is recorded during a nonivasive procedure where electrodes are placed on the chest. By computing the Fourier transform of an ECG, the hearbeat of a patient can be recovered. \n",
    "\n",
    "For this exercise, \n",
    "<ol>\n",
    "   <li> Import the ECG signals of (a) a healthy patient (ECG_Normal.csv - with a sampling frequency of 500 Hz), (b) a patient with arrythmia (ECG_Arrhythmia.csv - with a sampling frequency of 360 Hz). Arrhythmia is a disease implying an irregular heartbeat pattern. We strongly suggest you to use the <samp>read_csv</samp> function from the pandas library;\n",
    "     \n",
    "   <li> Plot the signal in the time domain and in the frequency domain (by computing a Fourier transform). We suggest you to use the <samp>fft</samp> function from the <samp>numpy.ftt</samp> library. Compare the Fourier transforms of both signals. Are they similar?\n",
    "   <li> By recovering the frequency of highest amplitude, deduce the value of the heartbeat frequency (Hz) and the number of beats per minute for each patient.  \n",
    "</ol>"
   ]
  },
  {
   "cell_type": "code",
   "execution_count": 40,
   "metadata": {},
   "outputs": [
    {
     "name": "stdout",
     "output_type": "stream",
     "text": [
      "The autoreload extension is already loaded. To reload it, use:\n",
      "  %reload_ext autoreload\n"
     ]
    }
   ],
   "source": [
    "#---------------------------------------------------------------------------\n",
    "#TO RUN\n",
    "#We provide you two funtions to plot a time signal (with/without its DFT) in\n",
    "#the make_graphs file. Open the file to read the function's description if \n",
    "#you want to use them.\n",
    "#---------------------------------------------------------------------------\n",
    "\n",
    "%load_ext autoreload\n",
    "%autoreload 2\n",
    "from make_graphs import *"
   ]
  },
  {
   "cell_type": "code",
   "execution_count": 85,
   "metadata": {
    "scrolled": false
   },
   "outputs": [
    {
     "data": {
      "image/png": "[encoded data removed]",
      "text/plain": [
       "<Figure size 648x216 with 2 Axes>"
      ]
     },
     "metadata": {
      "needs_background": "light"
     },
     "output_type": "display_data"
    },
    {
     "data": {
      "image/png": "[encoded data removed]",
      "text/plain": [
       "<Figure size 648x216 with 2 Axes>"
      ]
     },
     "metadata": {
      "needs_background": "light"
     },
     "output_type": "display_data"
    },
    {
     "name": "stdout",
     "output_type": "stream",
     "text": [
      "max frequency for normal 1.10 [Hz]\n",
      "max frequency for arrhytmia 1.22 [Hz]\n",
      "\n",
      "Beat per minute normal : 66.0132026405281\n",
      "Beat per minute arrhytmia : 73.45469093818764\n"
     ]
    }
   ],
   "source": [
    "#---------------------------------------------------------------------------\n",
    "#TO COMPLETE\n",
    "#---------------------------------------------------------------------------\n",
    "\n",
    "import pandas as pd\n",
    "import os\n",
    "header = \"\\Data-20220203\"\n",
    "root = os.getcwd() # Your folder location (if needed...)\n",
    "\n",
    "normal = pd.read_csv(root + header +\"\\ECG_Normal.csv\").to_numpy()\n",
    "Arrhytmia = pd.read_csv(root + header +\"\\ECG_Arrhythmia.csv\").to_numpy()\n",
    "\n",
    "normal = np.reshape(normal, (len(normal), ))\n",
    "Arrhytmia = np.reshape(Arrhytmia, (len(Arrhytmia, )))\n",
    "\n",
    "sampling_normal = 500\n",
    "sampling_arrhytmia = 360\n",
    "\n",
    "time_normal = np.arange(0, len(normal)*1/sampling_normal, 1/sampling_normal)\n",
    "time_arrhytmia = np.arange(0, len(normal)*1/sampling_arrhytmia, 1/sampling_arrhytmia)\n",
    "\n",
    "fft_normal = np.fft.fft(normal)\n",
    "fft_normal_pos = fft_normal[:len(fft_normal)//2+1]\n",
    "\n",
    "fft_normal_freq = np.fft.fftfreq(time_normal.shape[-1], d=1/500)\n",
    "fft_normal_freq_pos = fft_normal_freq[:len(fft_normal)//2+1]\n",
    "\n",
    "fft_arrhytmia = np.fft.fft(Arrhytmia)\n",
    "fft_arrhytmia_pos = fft_arrhytmia[:len(fft_arrhytmia)//2+1]\n",
    "\n",
    "fft_arrhytmia_freq = np.fft.fftfreq(time_arrhytmia.shape[-1], d=1/360)\n",
    "fft_arrhytmia_freq_pos = fft_arrhytmia_freq[:len(fft_arrhytmia)//2+1]\n",
    "\n",
    "plotSignalAndDft(time_normal, normal, fft_normal_freq_pos[:210], np.absolute(fft_normal_pos)[:210])\n",
    "plotSignalAndDft(time_arrhytmia, Arrhytmia, fft_arrhytmia_freq_pos[:300], np.absolute(fft_arrhytmia_pos)[:300])\n",
    "\n",
    "f_max_normal = fft_normal_freq_pos[np.argmax(np.absolute(fft_normal_pos[1:]))+1]\n",
    "f_max_arrhytmia = fft_arrhytmia_freq_pos[np.argmax(np.absolute(fft_arrhytmia_pos[1:]))+1]\n",
    "print(f\"max frequency for normal {f_max_normal:.2f} [Hz]\")\n",
    "print(f\"max frequency for arrhytmia {f_max_arrhytmia:.2f} [Hz]\\n\")\n",
    "\n",
    "print(f\"Beat per minute normal : {f_max_normal*60}\")\n",
    "print(f\"Beat per minute arrhytmia : {f_max_arrhytmia*60}\")"
   ]
  },
  {
   "cell_type": "markdown",
   "metadata": {},
   "source": [
    "<font size=5 color=#009999> <i>3.2  Zero insertion and Zero padding</i> </font> <br> \n",
    "\n",
    "The objective of this exercise is to study the impact of zero insertion and zero padding on the discrete Fourier transform.\n",
    "\n",
    "Perform and study impact of the following modification on the ECG recorded on the healthy patient (without arrythmia),\n",
    "<ol>\n",
    "   <li> Given that the original signal contains N samples, append N zeros to the end of the ECG signal. Display the FFT of the new signal of size 2N; \n",
    "   <li> Insert one zero between every element of the original ECG. Display the FFT of the new signal of size 2N.\n",
    "</ol>"
   ]
  },
  {
   "cell_type": "code",
   "execution_count": 99,
   "metadata": {},
   "outputs": [
    {
     "data": {
      "image/png": "[encoded data removed]",
      "text/plain": [
       "<Figure size 432x288 with 1 Axes>"
      ]
     },
     "metadata": {
      "needs_background": "light"
     },
     "output_type": "display_data"
    },
    {
     "data": {
      "image/png": "[encoded data removed]",
      "text/plain": [
       "<Figure size 432x288 with 1 Axes>"
      ]
     },
     "metadata": {
      "needs_background": "light"
     },
     "output_type": "display_data"
    }
   ],
   "source": [
    "#---------------------------------------------------------------------------\n",
    "#TO COMPLETE\n",
    "#---------------------------------------------------------------------------\n",
    "\n",
    "padding = np.zeros(normal.shape[-1])\n",
    "padded_normal = np.concatenate((normal, padding))\n",
    "\n",
    "fft_padded = np.fft.fft(padded_normal)\n",
    "fft_padded_freq = np.fft.fftfreq(padded_normal.shape[-1], d=1/500)\n",
    "\n",
    "plt.figure()\n",
    "plt.plot(fft_padded_freq[:800], np.absolute(fft_padded)[:800])\n",
    "plt.show()\n",
    "\n",
    "insertion = np.insert(normal, np.arange(0, len(normal)), 0)\n",
    "\n",
    "fft_insertion = np.fft.fft(insertion)\n",
    "fft_ins_freq = np.fft.fftfreq(insertion.shape[-1], d=1/1000)\n",
    "\n",
    "plt.figure()\n",
    "plt.plot(fft_ins_freq[:400], np.absolute(fft_insertion)[:400])\n",
    "plt.show()"
   ]
  },
  {
   "cell_type": "markdown",
   "metadata": {},
   "source": [
    "<font size=5 color=#009999> <b>3. Filtering with the Convolution Operator</b> </font> <br> \n",
    "\n",
    "Filtering in the time domain is performed using a convolution operation. Convolution employs a convolution filter, which is an array of N values. A convolution filter can also be referred to as a convolution mask, an impulse response (IR), or a convolution kernel. \n",
    "\n",
    "We here introduce several examples of Finite Impulse Response (FIR) filters. These are FIR because the number of elements in the impulse response is finite. \n",
    "\n",
    "<font size=5 color=#009999> <i>3.1 Mean Filter or Moving Average Filter</i> </font> <br> \n",
    "\n",
    "The mean filter performs the arithmetic mean of M consecutive samples of the input signal. For example, the kernel with M=3 is \n",
    "\n",
    "$$ h_{Mean} = \\left( \\frac13, \\frac13, \\frac13 \\right) $$\n",
    "\n",
    "The mean filter is a low pass filter which attenuates higher frequencies. \n",
    "\n",
    "<font size=5 color=#009999> <i>3.2 Derivative Filter</i> </font> <br> \n",
    "\n",
    "The derivation of a numerical signal relies on the Taylor expansion: \n",
    "\n",
    "$$ f(t \\pm \\epsilon) = f'(t) \\pm \\epsilon f'(t) + \\mathcal{O}(\\epsilon^2)$$\n",
    "\n",
    "$$ f'(t)  \\approx \\frac{f(t + \\epsilon) - f(t)}{\\epsilon} $$\n",
    "\n",
    "Written as numerical formula, it is expressed as :\n",
    "\n",
    "$$ Y_n = \\frac{X_n - X_{n-1}}{T_e} $$ \n",
    "\n",
    "where $T_e$ is the sampling frequency. This evalution of the derivative of a signal is called the *backward finite difference*. The corresponding impulse response is in that case:\n",
    "\n",
    "$$ h_{Derivative} = (-1,1) $$\n",
    "\n",
    "From the initial Taylor expansion, we can also derive a similar formula: \n",
    "\n",
    "$$ f'(t)  \\approx \\frac{f(t+\\epsilon) - f(t-\\epsilon)}{2 \\epsilon}  $$\n",
    "\n",
    "This gives the following finite difference called *centered finite difference*: \n",
    "\n",
    "$$ Y_n = \\frac{X_n - X_{n-2}}{2T_e} $$ \n",
    "\n",
    "The associated impulse response is given by: \n",
    "\n",
    "$$ h_{CenteredDerivative} = (-1,0,1) $$\n",
    "\n",
    "<font size=5 color=#009999> <i>3.3 Exercise</i> </font> <br> \n",
    "\n",
    "Follow the questions listed below and interpret your results after each step.\n",
    "<ol>\n",
    "   <li> Generate a signal by the addition of a 0.5 Hz sine wave at amplitude 2 and a 6 Hz sine wave at amplitude 0.4. Plot the Fourier transform of this signal; \n",
    "   <li> Apply a mean filter on this signal with the help of the convolution operator. Plot the Fourier transform of the filtered signal;\n",
    "    <li> Apply a centered finite difference derivative filter on this signal with the help of the convolution operator. Plot the Fourier transform of the filtered signal.\n",
    "</ol>"
   ]
  },
  {
   "cell_type": "code",
   "execution_count": null,
   "metadata": {},
   "outputs": [],
   "source": [
    "#---------------------------------------------------------------------------\n",
    "#TO COMPLETE\n",
    "#---------------------------------------------------------------------------"
   ]
  }
 ],
 "metadata": {
  "kernelspec": {
   "display_name": "Python 3",
   "language": "python",
   "name": "python3"
  },
  "language_info": {
   "codemirror_mode": {
    "name": "ipython",
    "version": 3
   },
   "file_extension": ".py",
   "mimetype": "text/x-python",
   "name": "python",
   "nbconvert_exporter": "python",
   "pygments_lexer": "ipython3",
   "version": "3.8.6"
  }
 },
 "nbformat": 4,
 "nbformat_minor": 2
}
